{
  "nbformat": 4,
  "nbformat_minor": 0,
  "metadata": {
    "colab": {
      "provenance": []
    },
    "kernelspec": {
      "name": "python3",
      "display_name": "Python 3"
    },
    "language_info": {
      "name": "python"
    }
  },
  "cells": [
    {
      "cell_type": "code",
      "execution_count": 1,
      "metadata": {
        "id": "Y6BHisxKhMRB"
      },
      "outputs": [],
      "source": [
        "import numpy as np\n"
      ]
    },
    {
      "cell_type": "code",
      "source": [
        "import pandas as pd"
      ],
      "metadata": {
        "id": "EcEWXcm_hU6B"
      },
      "execution_count": 2,
      "outputs": []
    },
    {
      "cell_type": "code",
      "source": [
        "df= pd.read_csv('Dataset102023.csv')"
      ],
      "metadata": {
        "id": "BmI6C7WSisbg"
      },
      "execution_count": 21,
      "outputs": []
    },
    {
      "cell_type": "code",
      "source": [
        "df"
      ],
      "metadata": {
        "colab": {
          "base_uri": "https://localhost:8080/",
          "height": 423
        },
        "id": "mNcCNXekpEaz",
        "outputId": "3d475dbf-f503-4b71-e6c6-d49579a001fd"
      },
      "execution_count": 22,
      "outputs": [
        {
          "output_type": "execute_result",
          "data": {
            "text/plain": [
              "      DATAFLOW  LAST UPDATE freq        SEXO  edad sizeclas  unit geo  \\\n",
              "0        ENERO            1    A    femenimo    20     GE10   100  AT   \n",
              "1     FEBRERO             2    B  masculino     25     GE10   120  AT   \n",
              "2        ENERO            1    C  masculino     26     GE10   140  AT   \n",
              "3     FEBRERO             2    B  masculino     30     GE10   160  AT   \n",
              "4        MARZO            3    C    femenimo    35     GE10   180  BE   \n",
              "..         ...          ...  ...         ...   ...      ...   ...  ..   \n",
              "141   FEBRERO             2    B  masculino     38    TOTAL   280  SK   \n",
              "142      ENERO            1    C    femenimo    45    TOTAL   300  UK   \n",
              "143   FEBRERO             2    A    femenimo    50    TOTAL   320  UK   \n",
              "144      MARZO            3    A  masculino     20    TOTAL   340  UK   \n",
              "145  NOVIEMBRE           11    B    femenimo    25    TOTAL   360  UK   \n",
              "\n",
              "     TIME_PERIOD  OBS_VALUE    COMERCIAL PROBL COMER  \n",
              "0           2008        737          ADM   INFLACION  \n",
              "1           2009        732   FINANCIERO   DESEMPLEO  \n",
              "2           2010        734     CAMARERO   INFLACION  \n",
              "3           2011        800  DEPENDIENTE   DESEMPLEO  \n",
              "4           2008        682      ABOGADO   INFLACION  \n",
              "..           ...        ...          ...         ...  \n",
              "141         2011        742   FINANCIERO   DESEMPLEO  \n",
              "142         2008        859     CAMARERO   INFLACION  \n",
              "143         2009        857  DEPENDIENTE   DESEMPLEO  \n",
              "144         2010        859      ABOGADO   INFLACION  \n",
              "145         2011        859          ADM   INFLACION  \n",
              "\n",
              "[146 rows x 12 columns]"
            ],
            "text/html": [
              "\n",
              "  <div id=\"df-3643a270-37f8-4a39-a93d-18ba0156d4d8\" class=\"colab-df-container\">\n",
              "    <div>\n",
              "<style scoped>\n",
              "    .dataframe tbody tr th:only-of-type {\n",
              "        vertical-align: middle;\n",
              "    }\n",
              "\n",
              "    .dataframe tbody tr th {\n",
              "        vertical-align: top;\n",
              "    }\n",
              "\n",
              "    .dataframe thead th {\n",
              "        text-align: right;\n",
              "    }\n",
              "</style>\n",
              "<table border=\"1\" class=\"dataframe\">\n",
              "  <thead>\n",
              "    <tr style=\"text-align: right;\">\n",
              "      <th></th>\n",
              "      <th>DATAFLOW</th>\n",
              "      <th>LAST UPDATE</th>\n",
              "      <th>freq</th>\n",
              "      <th>SEXO</th>\n",
              "      <th>edad</th>\n",
              "      <th>sizeclas</th>\n",
              "      <th>unit</th>\n",
              "      <th>geo</th>\n",
              "      <th>TIME_PERIOD</th>\n",
              "      <th>OBS_VALUE</th>\n",
              "      <th>COMERCIAL</th>\n",
              "      <th>PROBL COMER</th>\n",
              "    </tr>\n",
              "  </thead>\n",
              "  <tbody>\n",
              "    <tr>\n",
              "      <th>0</th>\n",
              "      <td>ENERO</td>\n",
              "      <td>1</td>\n",
              "      <td>A</td>\n",
              "      <td>femenimo</td>\n",
              "      <td>20</td>\n",
              "      <td>GE10</td>\n",
              "      <td>100</td>\n",
              "      <td>AT</td>\n",
              "      <td>2008</td>\n",
              "      <td>737</td>\n",
              "      <td>ADM</td>\n",
              "      <td>INFLACION</td>\n",
              "    </tr>\n",
              "    <tr>\n",
              "      <th>1</th>\n",
              "      <td>FEBRERO</td>\n",
              "      <td>2</td>\n",
              "      <td>B</td>\n",
              "      <td>masculino</td>\n",
              "      <td>25</td>\n",
              "      <td>GE10</td>\n",
              "      <td>120</td>\n",
              "      <td>AT</td>\n",
              "      <td>2009</td>\n",
              "      <td>732</td>\n",
              "      <td>FINANCIERO</td>\n",
              "      <td>DESEMPLEO</td>\n",
              "    </tr>\n",
              "    <tr>\n",
              "      <th>2</th>\n",
              "      <td>ENERO</td>\n",
              "      <td>1</td>\n",
              "      <td>C</td>\n",
              "      <td>masculino</td>\n",
              "      <td>26</td>\n",
              "      <td>GE10</td>\n",
              "      <td>140</td>\n",
              "      <td>AT</td>\n",
              "      <td>2010</td>\n",
              "      <td>734</td>\n",
              "      <td>CAMARERO</td>\n",
              "      <td>INFLACION</td>\n",
              "    </tr>\n",
              "    <tr>\n",
              "      <th>3</th>\n",
              "      <td>FEBRERO</td>\n",
              "      <td>2</td>\n",
              "      <td>B</td>\n",
              "      <td>masculino</td>\n",
              "      <td>30</td>\n",
              "      <td>GE10</td>\n",
              "      <td>160</td>\n",
              "      <td>AT</td>\n",
              "      <td>2011</td>\n",
              "      <td>800</td>\n",
              "      <td>DEPENDIENTE</td>\n",
              "      <td>DESEMPLEO</td>\n",
              "    </tr>\n",
              "    <tr>\n",
              "      <th>4</th>\n",
              "      <td>MARZO</td>\n",
              "      <td>3</td>\n",
              "      <td>C</td>\n",
              "      <td>femenimo</td>\n",
              "      <td>35</td>\n",
              "      <td>GE10</td>\n",
              "      <td>180</td>\n",
              "      <td>BE</td>\n",
              "      <td>2008</td>\n",
              "      <td>682</td>\n",
              "      <td>ABOGADO</td>\n",
              "      <td>INFLACION</td>\n",
              "    </tr>\n",
              "    <tr>\n",
              "      <th>...</th>\n",
              "      <td>...</td>\n",
              "      <td>...</td>\n",
              "      <td>...</td>\n",
              "      <td>...</td>\n",
              "      <td>...</td>\n",
              "      <td>...</td>\n",
              "      <td>...</td>\n",
              "      <td>...</td>\n",
              "      <td>...</td>\n",
              "      <td>...</td>\n",
              "      <td>...</td>\n",
              "      <td>...</td>\n",
              "    </tr>\n",
              "    <tr>\n",
              "      <th>141</th>\n",
              "      <td>FEBRERO</td>\n",
              "      <td>2</td>\n",
              "      <td>B</td>\n",
              "      <td>masculino</td>\n",
              "      <td>38</td>\n",
              "      <td>TOTAL</td>\n",
              "      <td>280</td>\n",
              "      <td>SK</td>\n",
              "      <td>2011</td>\n",
              "      <td>742</td>\n",
              "      <td>FINANCIERO</td>\n",
              "      <td>DESEMPLEO</td>\n",
              "    </tr>\n",
              "    <tr>\n",
              "      <th>142</th>\n",
              "      <td>ENERO</td>\n",
              "      <td>1</td>\n",
              "      <td>C</td>\n",
              "      <td>femenimo</td>\n",
              "      <td>45</td>\n",
              "      <td>TOTAL</td>\n",
              "      <td>300</td>\n",
              "      <td>UK</td>\n",
              "      <td>2008</td>\n",
              "      <td>859</td>\n",
              "      <td>CAMARERO</td>\n",
              "      <td>INFLACION</td>\n",
              "    </tr>\n",
              "    <tr>\n",
              "      <th>143</th>\n",
              "      <td>FEBRERO</td>\n",
              "      <td>2</td>\n",
              "      <td>A</td>\n",
              "      <td>femenimo</td>\n",
              "      <td>50</td>\n",
              "      <td>TOTAL</td>\n",
              "      <td>320</td>\n",
              "      <td>UK</td>\n",
              "      <td>2009</td>\n",
              "      <td>857</td>\n",
              "      <td>DEPENDIENTE</td>\n",
              "      <td>DESEMPLEO</td>\n",
              "    </tr>\n",
              "    <tr>\n",
              "      <th>144</th>\n",
              "      <td>MARZO</td>\n",
              "      <td>3</td>\n",
              "      <td>A</td>\n",
              "      <td>masculino</td>\n",
              "      <td>20</td>\n",
              "      <td>TOTAL</td>\n",
              "      <td>340</td>\n",
              "      <td>UK</td>\n",
              "      <td>2010</td>\n",
              "      <td>859</td>\n",
              "      <td>ABOGADO</td>\n",
              "      <td>INFLACION</td>\n",
              "    </tr>\n",
              "    <tr>\n",
              "      <th>145</th>\n",
              "      <td>NOVIEMBRE</td>\n",
              "      <td>11</td>\n",
              "      <td>B</td>\n",
              "      <td>femenimo</td>\n",
              "      <td>25</td>\n",
              "      <td>TOTAL</td>\n",
              "      <td>360</td>\n",
              "      <td>UK</td>\n",
              "      <td>2011</td>\n",
              "      <td>859</td>\n",
              "      <td>ADM</td>\n",
              "      <td>INFLACION</td>\n",
              "    </tr>\n",
              "  </tbody>\n",
              "</table>\n",
              "<p>146 rows × 12 columns</p>\n",
              "</div>\n",
              "    <div class=\"colab-df-buttons\">\n",
              "\n",
              "  <div class=\"colab-df-container\">\n",
              "    <button class=\"colab-df-convert\" onclick=\"convertToInteractive('df-3643a270-37f8-4a39-a93d-18ba0156d4d8')\"\n",
              "            title=\"Convert this dataframe to an interactive table.\"\n",
              "            style=\"display:none;\">\n",
              "\n",
              "  <svg xmlns=\"http://www.w3.org/2000/svg\" height=\"24px\" viewBox=\"0 -960 960 960\">\n",
              "    <path d=\"M120-120v-720h720v720H120Zm60-500h600v-160H180v160Zm220 220h160v-160H400v160Zm0 220h160v-160H400v160ZM180-400h160v-160H180v160Zm440 0h160v-160H620v160ZM180-180h160v-160H180v160Zm440 0h160v-160H620v160Z\"/>\n",
              "  </svg>\n",
              "    </button>\n",
              "\n",
              "  <style>\n",
              "    .colab-df-container {\n",
              "      display:flex;\n",
              "      gap: 12px;\n",
              "    }\n",
              "\n",
              "    .colab-df-convert {\n",
              "      background-color: #E8F0FE;\n",
              "      border: none;\n",
              "      border-radius: 50%;\n",
              "      cursor: pointer;\n",
              "      display: none;\n",
              "      fill: #1967D2;\n",
              "      height: 32px;\n",
              "      padding: 0 0 0 0;\n",
              "      width: 32px;\n",
              "    }\n",
              "\n",
              "    .colab-df-convert:hover {\n",
              "      background-color: #E2EBFA;\n",
              "      box-shadow: 0px 1px 2px rgba(60, 64, 67, 0.3), 0px 1px 3px 1px rgba(60, 64, 67, 0.15);\n",
              "      fill: #174EA6;\n",
              "    }\n",
              "\n",
              "    .colab-df-buttons div {\n",
              "      margin-bottom: 4px;\n",
              "    }\n",
              "\n",
              "    [theme=dark] .colab-df-convert {\n",
              "      background-color: #3B4455;\n",
              "      fill: #D2E3FC;\n",
              "    }\n",
              "\n",
              "    [theme=dark] .colab-df-convert:hover {\n",
              "      background-color: #434B5C;\n",
              "      box-shadow: 0px 1px 3px 1px rgba(0, 0, 0, 0.15);\n",
              "      filter: drop-shadow(0px 1px 2px rgba(0, 0, 0, 0.3));\n",
              "      fill: #FFFFFF;\n",
              "    }\n",
              "  </style>\n",
              "\n",
              "    <script>\n",
              "      const buttonEl =\n",
              "        document.querySelector('#df-3643a270-37f8-4a39-a93d-18ba0156d4d8 button.colab-df-convert');\n",
              "      buttonEl.style.display =\n",
              "        google.colab.kernel.accessAllowed ? 'block' : 'none';\n",
              "\n",
              "      async function convertToInteractive(key) {\n",
              "        const element = document.querySelector('#df-3643a270-37f8-4a39-a93d-18ba0156d4d8');\n",
              "        const dataTable =\n",
              "          await google.colab.kernel.invokeFunction('convertToInteractive',\n",
              "                                                    [key], {});\n",
              "        if (!dataTable) return;\n",
              "\n",
              "        const docLinkHtml = 'Like what you see? Visit the ' +\n",
              "          '<a target=\"_blank\" href=https://colab.research.google.com/notebooks/data_table.ipynb>data table notebook</a>'\n",
              "          + ' to learn more about interactive tables.';\n",
              "        element.innerHTML = '';\n",
              "        dataTable['output_type'] = 'display_data';\n",
              "        await google.colab.output.renderOutput(dataTable, element);\n",
              "        const docLink = document.createElement('div');\n",
              "        docLink.innerHTML = docLinkHtml;\n",
              "        element.appendChild(docLink);\n",
              "      }\n",
              "    </script>\n",
              "  </div>\n",
              "\n",
              "\n",
              "<div id=\"df-87ccd51c-0814-4dff-b81b-9ca3a74f5ae9\">\n",
              "  <button class=\"colab-df-quickchart\" onclick=\"quickchart('df-87ccd51c-0814-4dff-b81b-9ca3a74f5ae9')\"\n",
              "            title=\"Suggest charts\"\n",
              "            style=\"display:none;\">\n",
              "\n",
              "<svg xmlns=\"http://www.w3.org/2000/svg\" height=\"24px\"viewBox=\"0 0 24 24\"\n",
              "     width=\"24px\">\n",
              "    <g>\n",
              "        <path d=\"M19 3H5c-1.1 0-2 .9-2 2v14c0 1.1.9 2 2 2h14c1.1 0 2-.9 2-2V5c0-1.1-.9-2-2-2zM9 17H7v-7h2v7zm4 0h-2V7h2v10zm4 0h-2v-4h2v4z\"/>\n",
              "    </g>\n",
              "</svg>\n",
              "  </button>\n",
              "\n",
              "<style>\n",
              "  .colab-df-quickchart {\n",
              "      --bg-color: #E8F0FE;\n",
              "      --fill-color: #1967D2;\n",
              "      --hover-bg-color: #E2EBFA;\n",
              "      --hover-fill-color: #174EA6;\n",
              "      --disabled-fill-color: #AAA;\n",
              "      --disabled-bg-color: #DDD;\n",
              "  }\n",
              "\n",
              "  [theme=dark] .colab-df-quickchart {\n",
              "      --bg-color: #3B4455;\n",
              "      --fill-color: #D2E3FC;\n",
              "      --hover-bg-color: #434B5C;\n",
              "      --hover-fill-color: #FFFFFF;\n",
              "      --disabled-bg-color: #3B4455;\n",
              "      --disabled-fill-color: #666;\n",
              "  }\n",
              "\n",
              "  .colab-df-quickchart {\n",
              "    background-color: var(--bg-color);\n",
              "    border: none;\n",
              "    border-radius: 50%;\n",
              "    cursor: pointer;\n",
              "    display: none;\n",
              "    fill: var(--fill-color);\n",
              "    height: 32px;\n",
              "    padding: 0;\n",
              "    width: 32px;\n",
              "  }\n",
              "\n",
              "  .colab-df-quickchart:hover {\n",
              "    background-color: var(--hover-bg-color);\n",
              "    box-shadow: 0 1px 2px rgba(60, 64, 67, 0.3), 0 1px 3px 1px rgba(60, 64, 67, 0.15);\n",
              "    fill: var(--button-hover-fill-color);\n",
              "  }\n",
              "\n",
              "  .colab-df-quickchart-complete:disabled,\n",
              "  .colab-df-quickchart-complete:disabled:hover {\n",
              "    background-color: var(--disabled-bg-color);\n",
              "    fill: var(--disabled-fill-color);\n",
              "    box-shadow: none;\n",
              "  }\n",
              "\n",
              "  .colab-df-spinner {\n",
              "    border: 2px solid var(--fill-color);\n",
              "    border-color: transparent;\n",
              "    border-bottom-color: var(--fill-color);\n",
              "    animation:\n",
              "      spin 1s steps(1) infinite;\n",
              "  }\n",
              "\n",
              "  @keyframes spin {\n",
              "    0% {\n",
              "      border-color: transparent;\n",
              "      border-bottom-color: var(--fill-color);\n",
              "      border-left-color: var(--fill-color);\n",
              "    }\n",
              "    20% {\n",
              "      border-color: transparent;\n",
              "      border-left-color: var(--fill-color);\n",
              "      border-top-color: var(--fill-color);\n",
              "    }\n",
              "    30% {\n",
              "      border-color: transparent;\n",
              "      border-left-color: var(--fill-color);\n",
              "      border-top-color: var(--fill-color);\n",
              "      border-right-color: var(--fill-color);\n",
              "    }\n",
              "    40% {\n",
              "      border-color: transparent;\n",
              "      border-right-color: var(--fill-color);\n",
              "      border-top-color: var(--fill-color);\n",
              "    }\n",
              "    60% {\n",
              "      border-color: transparent;\n",
              "      border-right-color: var(--fill-color);\n",
              "    }\n",
              "    80% {\n",
              "      border-color: transparent;\n",
              "      border-right-color: var(--fill-color);\n",
              "      border-bottom-color: var(--fill-color);\n",
              "    }\n",
              "    90% {\n",
              "      border-color: transparent;\n",
              "      border-bottom-color: var(--fill-color);\n",
              "    }\n",
              "  }\n",
              "</style>\n",
              "\n",
              "  <script>\n",
              "    async function quickchart(key) {\n",
              "      const quickchartButtonEl =\n",
              "        document.querySelector('#' + key + ' button');\n",
              "      quickchartButtonEl.disabled = true;  // To prevent multiple clicks.\n",
              "      quickchartButtonEl.classList.add('colab-df-spinner');\n",
              "      try {\n",
              "        const charts = await google.colab.kernel.invokeFunction(\n",
              "            'suggestCharts', [key], {});\n",
              "      } catch (error) {\n",
              "        console.error('Error during call to suggestCharts:', error);\n",
              "      }\n",
              "      quickchartButtonEl.classList.remove('colab-df-spinner');\n",
              "      quickchartButtonEl.classList.add('colab-df-quickchart-complete');\n",
              "    }\n",
              "    (() => {\n",
              "      let quickchartButtonEl =\n",
              "        document.querySelector('#df-87ccd51c-0814-4dff-b81b-9ca3a74f5ae9 button');\n",
              "      quickchartButtonEl.style.display =\n",
              "        google.colab.kernel.accessAllowed ? 'block' : 'none';\n",
              "    })();\n",
              "  </script>\n",
              "</div>\n",
              "    </div>\n",
              "  </div>\n"
            ]
          },
          "metadata": {},
          "execution_count": 22
        }
      ]
    },
    {
      "cell_type": "code",
      "source": [
        "import matplotlib.pyplot as plt"
      ],
      "metadata": {
        "id": "X9a-4WglknMC"
      },
      "execution_count": 7,
      "outputs": []
    },
    {
      "cell_type": "code",
      "source": [
        "x= df. edad"
      ],
      "metadata": {
        "id": "BCvKrqQkruXo"
      },
      "execution_count": 37,
      "outputs": []
    },
    {
      "cell_type": "code",
      "source": [
        "y= df.SEXO"
      ],
      "metadata": {
        "id": "Xe4g3KG-sd4D"
      },
      "execution_count": 38,
      "outputs": []
    },
    {
      "cell_type": "code",
      "source": [
        "f= plt.table"
      ],
      "metadata": {
        "id": "AjPiBukVwV5F"
      },
      "execution_count": 46,
      "outputs": []
    },
    {
      "cell_type": "code",
      "source": [
        "table(full.SEXO, full.Title)"
      ],
      "metadata": {
        "colab": {
          "base_uri": "https://localhost:8080/",
          "height": 182
        },
        "id": "DA8JC4D2wG1x",
        "outputId": "4830b0de-1b69-4694-c526-9a8618a5d8b3"
      },
      "execution_count": 47,
      "outputs": [
        {
          "output_type": "error",
          "ename": "NameError",
          "evalue": "name 'table' is not defined",
          "traceback": [
            "\u001b[0;31m---------------------------------------------------------------------------\u001b[0m",
            "\u001b[0;31mNameError\u001b[0m                                 Traceback (most recent call last)",
            "\u001b[0;32m<ipython-input-47-cb904963055d>\u001b[0m in \u001b[0;36m<cell line: 1>\u001b[0;34m()\u001b[0m\n\u001b[0;32m----> 1\u001b[0;31m \u001b[0mtable\u001b[0m\u001b[0;34m(\u001b[0m\u001b[0mfull\u001b[0m\u001b[0;34m.\u001b[0m\u001b[0mSEXO\u001b[0m\u001b[0;34m,\u001b[0m \u001b[0mfull\u001b[0m\u001b[0;34m.\u001b[0m\u001b[0mTitle\u001b[0m\u001b[0;34m)\u001b[0m\u001b[0;34m\u001b[0m\u001b[0;34m\u001b[0m\u001b[0m\n\u001b[0m",
            "\u001b[0;31mNameError\u001b[0m: name 'table' is not defined"
          ]
        }
      ]
    },
    {
      "cell_type": "code",
      "source": [
        " self = plt.table"
      ],
      "metadata": {
        "id": "hSN3PZzfs0u5"
      },
      "execution_count": 53,
      "outputs": []
    },
    {
      "cell_type": "code",
      "source": [
        "plt.table =(df.SEXO, df.edad)"
      ],
      "metadata": {
        "id": "bJqwqQjWxAMs"
      },
      "execution_count": 61,
      "outputs": []
    },
    {
      "cell_type": "code",
      "source": [],
      "metadata": {
        "colab": {
          "base_uri": "https://localhost:8080/",
          "height": 182
        },
        "id": "zD0NdKKJxsa9",
        "outputId": "36623979-79a1-48ed-eb4b-f931f4da7bb5"
      },
      "execution_count": 64,
      "outputs": [
        {
          "output_type": "error",
          "ename": "TypeError",
          "evalue": "tuple.count() takes exactly one argument (0 given)",
          "traceback": [
            "\u001b[0;31m---------------------------------------------------------------------------\u001b[0m",
            "\u001b[0;31mTypeError\u001b[0m                                 Traceback (most recent call last)",
            "\u001b[0;32m<ipython-input-64-1f3fe9819a15>\u001b[0m in \u001b[0;36m<cell line: 1>\u001b[0;34m()\u001b[0m\n\u001b[0;32m----> 1\u001b[0;31m \u001b[0mplt\u001b[0m\u001b[0;34m.\u001b[0m\u001b[0mtable\u001b[0m\u001b[0;34m.\u001b[0m\u001b[0mcount\u001b[0m\u001b[0;34m(\u001b[0m\u001b[0;34m)\u001b[0m\u001b[0;34m\u001b[0m\u001b[0;34m\u001b[0m\u001b[0m\n\u001b[0m",
            "\u001b[0;31mTypeError\u001b[0m: tuple.count() takes exactly one argument (0 given)"
          ]
        }
      ]
    },
    {
      "cell_type": "code",
      "source": [
        "library('edad')"
      ],
      "metadata": {
        "colab": {
          "base_uri": "https://localhost:8080/",
          "height": 182
        },
        "id": "QYb-11A-tLQ7",
        "outputId": "9d0e68d4-9fb8-48da-cdcb-2e50db58d239"
      },
      "execution_count": 42,
      "outputs": [
        {
          "output_type": "error",
          "ename": "NameError",
          "evalue": "name 'library' is not defined",
          "traceback": [
            "\u001b[0;31m---------------------------------------------------------------------------\u001b[0m",
            "\u001b[0;31mNameError\u001b[0m                                 Traceback (most recent call last)",
            "\u001b[0;32m<ipython-input-42-e29dc0b4ff3d>\u001b[0m in \u001b[0;36m<cell line: 1>\u001b[0;34m()\u001b[0m\n\u001b[0;32m----> 1\u001b[0;31m \u001b[0mlibrary\u001b[0m\u001b[0;34m(\u001b[0m\u001b[0;34m'edad'\u001b[0m\u001b[0;34m)\u001b[0m\u001b[0;34m\u001b[0m\u001b[0;34m\u001b[0m\u001b[0m\n\u001b[0m",
            "\u001b[0;31mNameError\u001b[0m: name 'library' is not defined"
          ]
        }
      ]
    },
    {
      "cell_type": "code",
      "source": [
        "TIME_PERIOD <- read.csv('../input/TIME_PERIOD.csv', stringsAsFactors = F)"
      ],
      "metadata": {
        "colab": {
          "base_uri": "https://localhost:8080/",
          "height": 182
        },
        "id": "lYH1tvPbsyJT",
        "outputId": "38849da2-1158-44e1-9fec-a9c5ca19f2f4"
      },
      "execution_count": 41,
      "outputs": [
        {
          "output_type": "error",
          "ename": "NameError",
          "evalue": "name 'TIME_PERIOD' is not defined",
          "traceback": [
            "\u001b[0;31m---------------------------------------------------------------------------\u001b[0m",
            "\u001b[0;31mNameError\u001b[0m                                 Traceback (most recent call last)",
            "\u001b[0;32m<ipython-input-41-e2c6796dcd49>\u001b[0m in \u001b[0;36m<cell line: 1>\u001b[0;34m()\u001b[0m\n\u001b[0;32m----> 1\u001b[0;31m \u001b[0mTIME_PERIOD\u001b[0m \u001b[0;34m<\u001b[0m\u001b[0;34m-\u001b[0m \u001b[0mread\u001b[0m\u001b[0;34m.\u001b[0m\u001b[0mcsv\u001b[0m\u001b[0;34m(\u001b[0m\u001b[0;34m'../input/TIME_PERIOD.csv'\u001b[0m\u001b[0;34m,\u001b[0m \u001b[0mstringsAsFactors\u001b[0m \u001b[0;34m=\u001b[0m \u001b[0mF\u001b[0m\u001b[0;34m)\u001b[0m\u001b[0;34m\u001b[0m\u001b[0;34m\u001b[0m\u001b[0m\n\u001b[0m",
            "\u001b[0;31mNameError\u001b[0m: name 'TIME_PERIOD' is not defined"
          ]
        }
      ]
    }
  ]
}